{
  "cells": [
    {
      "cell_type": "code",
      "source": [
        "!pip install transformers\n",
        "!pip install torch\n",
        "!pip install newspaper3k\n"
      ],
      "metadata": {
        "collapsed": true,
        "id": "FY6CHX_hn1Nr"
      },
      "execution_count": null,
      "outputs": []
    },
    {
      "cell_type": "code",
      "source": [
        "import nltk\n",
        "nltk.download('punkt')"
      ],
      "metadata": {
        "collapsed": true,
        "id": "Q0D9p2GjHKIc"
      },
      "execution_count": null,
      "outputs": []
    },
    {
      "cell_type": "code",
      "source": [
        "from textblob import TextBlob\n",
        "from newspaper import Article\n",
        "from transformers import AutoTokenizer, AutoModelForSequenceClassification\n",
        "from scipy.special import softmax\n",
        "from dataclasses import dataclass"
      ],
      "metadata": {
        "id": "FcHIJ5bjHKT8"
      },
      "execution_count": 3,
      "outputs": []
    },
    {
      "cell_type": "code",
      "source": [
        "@dataclass\n",
        "class Mood:\n",
        "    emoji: str\n",
        "    sentiment: float"
      ],
      "metadata": {
        "id": "VZtk5-riHKbF"
      },
      "execution_count": 4,
      "outputs": []
    },
    {
      "cell_type": "code",
      "source": [
        "tokenizer = AutoTokenizer.from_pretrained(\"savasy/bert-base-turkish-sentiment-cased\")\n",
        "model = AutoModelForSequenceClassification.from_pretrained(\"savasy/bert-base-turkish-sentiment-cased\")"
      ],
      "metadata": {
        "collapsed": true,
        "id": "jrtHKw4fHKjE"
      },
      "execution_count": null,
      "outputs": []
    },
    {
      "cell_type": "code",
      "source": [
        "def sentiment_analysis(text):\n",
        "    encoded_input = tokenizer(text, return_tensors='pt')\n",
        "    output = model(**encoded_input)\n",
        "    scores = output.logits[0].detach().numpy()\n",
        "    scores = softmax(scores)\n",
        "\n",
        "    if len(scores) == 3:\n",
        "        labels = ['negative', 'neutral', 'positive']\n",
        "    elif len(scores) == 2:\n",
        "        labels = ['negative', 'positive']\n",
        "    else:\n",
        "        raise ValueError(\"Unexpected number of scores in model output\")\n",
        "\n",
        "    result = {labels[i]: scores[i] for i in range(len(labels))}\n",
        "    return result\n",
        "\n",
        "def get_mood(input_text: str, *, threshold: float) -> Mood:\n",
        "    sentiment_scores = sentiment_analysis(input_text)\n",
        "    if 'neutral' in sentiment_scores:\n",
        "        sentiment = sentiment_scores['positive'] - sentiment_scores['negative']\n",
        "    else:\n",
        "        sentiment = sentiment_scores['positive'] - sentiment_scores['negative']\n",
        "\n",
        "    friendly_threshold: float = threshold\n",
        "    hostile_threshold: float = -threshold\n",
        "\n",
        "    if sentiment > friendly_threshold:\n",
        "        return Mood(\"😊\", sentiment)\n",
        "    elif sentiment < hostile_threshold:\n",
        "        return Mood(\"😠\", sentiment)\n",
        "    else:\n",
        "        return Mood(\"😐\", sentiment)\n",
        "\n",
        "\n",
        "        # Haber URL'si buraya girilir\n",
        "url = \"https://www.ensonhaber.com/kralspor/avrupa-sampiyonasi/arda-guler-gol-atti-futbol-dunyasi-kayitsiz-kalmadi\"\n",
        "article = Article(url)\n",
        "article.download()\n",
        "article.parse()\n",
        "article.nlp()\n",
        "\n",
        "text = article.summary\n",
        "print(text)\n",
        "\n",
        "\n",
        "mood = get_mood(text, threshold=0.1)\n",
        "print(mood)"
      ],
      "metadata": {
        "colab": {
          "base_uri": "https://localhost:8080/"
        },
        "id": "ASCxNCveHKp_",
        "outputId": "6bbc3bbb-6c02-4e6d-e0ca-885437f03a54"
      },
      "execution_count": 20,
      "outputs": [
        {
          "output_type": "stream",
          "name": "stdout",
          "text": [
            "Arda Güler gol attı, futbol dünyası kayıtsız kalmadı A Milli Futbol Takımızın, Gürcistan'ı 3-1'lik skorla yendiği EURO 2024 maçında attığı golle karşılaşmaya damgasını vuran Arda Güler, futbol dünyasının takdirini topladı.\n",
            "ensonhaber.com2024 Avrupa Futbol Şampiyonası F Grubu ilk maçında A Milli Futbol Takımı BVB Dortmund Stadyumu’nda Gürcistan ile oynadı.\n",
            "Öte yandan Arda Güler, Cristiano Ronaldo'nun geçerek Avrupa Futbol Şampiyonası tarihinde oynadığı ilk maçında gol atan en genç oyuncu oldu.\n",
            "İspanyol devi, maçın sonucunu Arda Güler'in gol sevincine ilişkin fotoğraf ile paylaştı.\n",
            "Mesut ÖzilFenerbahçe ve Real Madrid'in eski yıldızlarından Mesut Özil de Arda Güler için paylaşımda bulundu.\n",
            "Mood(emoji='😊', sentiment=0.9720299)\n"
          ]
        }
      ]
    }
  ],
  "metadata": {
    "colab": {
      "provenance": [],
      "mount_file_id": "12HHBigv4IC1J_8mQNSdns1d8wHrgnCYF",
      "authorship_tag": "ABX9TyNr/yM1ibvwD7pOe+ws2muX"
    },
    "kernelspec": {
      "display_name": "Python 3",
      "name": "python3"
    },
    "language_info": {
      "name": "python"
    }
  },
  "nbformat": 4,
  "nbformat_minor": 0
}