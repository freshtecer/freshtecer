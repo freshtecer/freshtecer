{
  "nbformat": 4,
  "nbformat_minor": 0,
  "metadata": {
    "colab": {
      "provenance": [],
      "mount_file_id": "17hQAD-FdKe5lzrarVS1wEC6TpWPBKDkQ",
      "authorship_tag": "ABX9TyOHochgwRGLcGF9uGEsetCS"
    },
    "kernelspec": {
      "name": "python3",
      "display_name": "Python 3"
    },
    "language_info": {
      "name": "python"
    }
  },
  "cells": [
    {
      "cell_type": "code",
      "source": [
        "!pip install transformers\n",
        "!pip install torch\n",
        "!pip install newspaper3k"
      ],
      "metadata": {
        "collapsed": true,
        "id": "JG5I_zxLlRVw"
      },
      "execution_count": null,
      "outputs": []
    },
    {
      "cell_type": "code",
      "source": [
        "import nltk\n",
        "nltk.download('punkt')\n",
        "from textblob import TextBlob\n",
        "from newspaper import Article"
      ],
      "metadata": {
        "collapsed": true,
        "id": "90sC6X2iu62m"
      },
      "execution_count": null,
      "outputs": []
    },
    {
      "cell_type": "code",
      "source": [
        "from transformers import AutoTokenizer, AutoModelForSequenceClassification\n",
        "from scipy.special import softmax"
      ],
      "metadata": {
        "id": "VMgzHtEUmFcx"
      },
      "execution_count": 2,
      "outputs": []
    },
    {
      "cell_type": "code",
      "source": [
        "from dataclasses import dataclass"
      ],
      "metadata": {
        "id": "U8bZ9r45vQ07"
      },
      "execution_count": 3,
      "outputs": []
    },
    {
      "cell_type": "code",
      "source": [
        "@dataclass\n",
        "class Mood:\n",
        "    emoji: str\n",
        "    sentiment: float"
      ],
      "metadata": {
        "id": "v0h4RPsXvQxW"
      },
      "execution_count": 4,
      "outputs": []
    },
    {
      "cell_type": "code",
      "source": [
        "from transformers import AutoModel, AutoTokenizer\n",
        "\n",
        "tokenizer = AutoTokenizer.from_pretrained(\"dbmdz/bert-base-turkish-cased\")\n",
        "model = AutoModel.from_pretrained(\"dbmdz/bert-base-turkish-cased\")\n"
      ],
      "metadata": {
        "collapsed": true,
        "id": "svcZVUKgmFSc"
      },
      "execution_count": null,
      "outputs": []
    },
    {
      "cell_type": "code",
      "source": [
        "def sentiment_analysis(text):\n",
        "    encoded_input = tokenizer(text, return_tensors='pt')\n",
        "    output = model(**encoded_input)\n",
        "    scores = output[0][0].detach().numpy()\n",
        "    scores = softmax(scores)\n",
        "\n",
        "    labels = ['negative', 'neutral', 'positive']\n",
        "    result = {labels[i]: scores[i] for i in range(len(labels))}\n",
        "    return result\n"
      ],
      "metadata": {
        "id": "Qds2hYLemFW6"
      },
      "execution_count": 6,
      "outputs": []
    },
    {
      "cell_type": "code",
      "source": [
        "def get_mood(input_text: str, *, threshold: float) -> Mood:\n",
        "    sentiment: float = TextBlob(input_text).sentiment.polarity\n",
        "\n",
        "\n",
        "    friendly_treshold: float = threshold\n",
        "    hostile_treshold: float = -threshold\n",
        "\n",
        "    if sentiment > friendly_treshold:\n",
        "        return Mood(\"😊\", sentiment)\n",
        "    elif sentiment < hostile_treshold:\n",
        "        return Mood(\"😠\", sentiment)\n",
        "    else:\n",
        "        return Mood(\"😐\", sentiment)\n",
        "\n",
        "\n",
        "\n",
        "url = \"https://www.ensonhaber.com/kralspor/avrupa-sampiyonasi/arda-guler-gol-atti-futbol-dunyasi-kayitsiz-kalmadi\"\n",
        "article = Article(url)\n",
        "article.download()\n",
        "article.parse()\n",
        "article.nlp()\n",
        "\n",
        "text = article.summary\n",
        "print(text)\n",
        "\n",
        "blob = TextBlob(text)\n",
        "sentiment = blob.sentiment.polarity # 0 to 1\n",
        "print(sentiment)\n",
        "\n",
        "mood = get_mood(text, threshold=0.1)\n",
        "print(mood)"
      ],
      "metadata": {
        "colab": {
          "base_uri": "https://localhost:8080/"
        },
        "id": "VgDjSVmuvQqv",
        "outputId": "42bc59de-a2f5-40ff-aad6-29b5e9a0e7af"
      },
      "execution_count": 13,
      "outputs": [
        {
          "output_type": "stream",
          "name": "stdout",
          "text": [
            "Arda Güler gol attı, futbol dünyası kayıtsız kalmadı A Milli Futbol Takımızın, Gürcistan'ı 3-1'lik skorla yendiği EURO 2024 maçında attığı golle karşılaşmaya damgasını vuran Arda Güler, futbol dünyasının takdirini topladı.\n",
            "ensonhaber.com2024 Avrupa Futbol Şampiyonası F Grubu ilk maçında A Milli Futbol Takımı BVB Dortmund Stadyumu’nda Gürcistan ile oynadı.\n",
            "Öte yandan Arda Güler, Cristiano Ronaldo'nun geçerek Avrupa Futbol Şampiyonası tarihinde oynadığı ilk maçında gol atan en genç oyuncu oldu.\n",
            "İspanyol devi, maçın sonucunu Arda Güler'in gol sevincine ilişkin fotoğraf ile paylaştı.\n",
            "Mesut ÖzilFenerbahçe ve Real Madrid'in eski yıldızlarından Mesut Özil de Arda Güler için paylaşımda bulundu.\n",
            "0.2\n",
            "Mood(emoji='😊', sentiment=0.2)\n"
          ]
        }
      ]
    }
  ]
}