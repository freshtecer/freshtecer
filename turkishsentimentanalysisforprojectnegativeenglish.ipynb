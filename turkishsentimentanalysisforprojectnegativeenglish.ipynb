{
  "nbformat": 4,
  "nbformat_minor": 0,
  "metadata": {
    "colab": {
      "provenance": [],
      "mount_file_id": "17hQAD-FdKe5lzrarVS1wEC6TpWPBKDkQ",
      "authorship_tag": "ABX9TyNnhyuycdTDD014Q3rzdrQ8"
    },
    "kernelspec": {
      "name": "python3",
      "display_name": "Python 3"
    },
    "language_info": {
      "name": "python"
    }
  },
  "cells": [
    {
      "cell_type": "code",
      "source": [
        "!pip install transformers\n",
        "!pip install torch\n",
        "!pip install newspaper3k"
      ],
      "metadata": {
        "collapsed": true,
        "id": "JG5I_zxLlRVw"
      },
      "execution_count": null,
      "outputs": []
    },
    {
      "cell_type": "code",
      "source": [
        "import nltk\n",
        "nltk.download('punkt')\n",
        "from textblob import TextBlob\n",
        "from newspaper import Article"
      ],
      "metadata": {
        "collapsed": true,
        "id": "90sC6X2iu62m"
      },
      "execution_count": null,
      "outputs": []
    },
    {
      "cell_type": "code",
      "source": [
        "from transformers import AutoTokenizer, AutoModelForSequenceClassification\n",
        "from scipy.special import softmax"
      ],
      "metadata": {
        "id": "VMgzHtEUmFcx"
      },
      "execution_count": 2,
      "outputs": []
    },
    {
      "cell_type": "code",
      "source": [
        "from dataclasses import dataclass"
      ],
      "metadata": {
        "id": "U8bZ9r45vQ07"
      },
      "execution_count": 3,
      "outputs": []
    },
    {
      "cell_type": "code",
      "source": [
        "@dataclass\n",
        "class Mood:\n",
        "    emoji: str\n",
        "    sentiment: float"
      ],
      "metadata": {
        "id": "v0h4RPsXvQxW"
      },
      "execution_count": 4,
      "outputs": []
    },
    {
      "cell_type": "code",
      "source": [
        "from transformers import AutoModel, AutoTokenizer\n",
        "\n",
        "tokenizer = AutoTokenizer.from_pretrained(\"dbmdz/bert-base-turkish-cased\")\n",
        "model = AutoModel.from_pretrained(\"dbmdz/bert-base-turkish-cased\")\n"
      ],
      "metadata": {
        "collapsed": true,
        "id": "svcZVUKgmFSc"
      },
      "execution_count": null,
      "outputs": []
    },
    {
      "cell_type": "code",
      "source": [
        "def sentiment_analysis(text):\n",
        "    encoded_input = tokenizer(text, return_tensors='pt')\n",
        "    output = model(**encoded_input)\n",
        "    scores = output[0][0].detach().numpy()\n",
        "    scores = softmax(scores)\n",
        "\n",
        "    labels = ['negative', 'neutral', 'positive']\n",
        "    result = {labels[i]: scores[i] for i in range(len(labels))}\n",
        "    return result\n"
      ],
      "metadata": {
        "id": "Qds2hYLemFW6"
      },
      "execution_count": 6,
      "outputs": []
    },
    {
      "cell_type": "code",
      "source": [
        "def get_mood(input_text: str, *, threshold: float) -> Mood:\n",
        "    sentiment: float = TextBlob(input_text).sentiment.polarity\n",
        "\n",
        "\n",
        "    friendly_treshold: float = threshold\n",
        "    hostile_treshold: float = -threshold\n",
        "\n",
        "    if sentiment > friendly_treshold:\n",
        "        return Mood(\"😊\", sentiment)\n",
        "    elif sentiment < hostile_treshold:\n",
        "        return Mood(\"😠\", sentiment)\n",
        "    else:\n",
        "        return Mood(\"😐\", sentiment)\n",
        "\n",
        "\n",
        "\n",
        "url = \"https://www.bbc.com/news/articles/cv22ydr7v3ko\"\n",
        "article = Article(url)\n",
        "article.download()\n",
        "article.parse()\n",
        "article.nlp()\n",
        "\n",
        "text = article.summary\n",
        "print(text)\n",
        "\n",
        "blob = TextBlob(text)\n",
        "sentiment = blob.sentiment.polarity # 0 to 1\n",
        "print(sentiment)\n",
        "\n",
        "mood = get_mood(text, threshold=0.1)\n",
        "print(mood)"
      ],
      "metadata": {
        "colab": {
          "base_uri": "https://localhost:8080/"
        },
        "id": "VgDjSVmuvQqv",
        "outputId": "7bba9d2c-7ef6-469d-8c37-b1f0271d18b4"
      },
      "execution_count": 15,
      "outputs": [
        {
          "output_type": "stream",
          "name": "stdout",
          "text": [
            "Four men jailed over 'senseless' murder of cyclist24 hours ago ShareFamily Photo Kyron Lee was stabbed to death in October 2022Four men who stabbed a cyclist to death in a \"senseless\" murder after knocking him down in a stolen car have been jailed.\n",
            "Kyron Lee, 21, was pronounced dead at the scene in Cippenham, Slough, in October 2022.\n",
            "Mohammed Elgamri, 20, of Carter Close, Windsor, was sentenced to life with a minimum of 25 years after being found guilty of murder.\n",
            "Yaqhub Mussa, 23, of Daylesford Grove, Slough, was sentenced to life with a minimum of 23 years and nine months after pleading guilty to murder.\n",
            "Fras Seedahmed, 19, of Surrey Avenue, Slough, was sentenced to life with a minimum of 23 years after being found guilty of murder.\n",
            "-0.3711111111111111\n",
            "Mood(emoji='😠', sentiment=-0.3711111111111111)\n"
          ]
        }
      ]
    }
  ]
}