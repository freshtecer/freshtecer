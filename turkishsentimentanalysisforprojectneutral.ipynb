{
  "nbformat": 4,
  "nbformat_minor": 0,
  "metadata": {
    "colab": {
      "provenance": [],
      "mount_file_id": "17hQAD-FdKe5lzrarVS1wEC6TpWPBKDkQ",
      "authorship_tag": "ABX9TyORJcyLoiyn6B5nvQRdTT5k"
    },
    "kernelspec": {
      "name": "python3",
      "display_name": "Python 3"
    },
    "language_info": {
      "name": "python"
    }
  },
  "cells": [
    {
      "cell_type": "code",
      "source": [
        "!pip install transformers\n",
        "!pip install torch\n",
        "!pip install newspaper3k"
      ],
      "metadata": {
        "collapsed": true,
        "id": "JG5I_zxLlRVw"
      },
      "execution_count": null,
      "outputs": []
    },
    {
      "cell_type": "code",
      "source": [
        "import nltk\n",
        "nltk.download('punkt')\n",
        "from textblob import TextBlob\n",
        "from newspaper import Article"
      ],
      "metadata": {
        "collapsed": true,
        "id": "90sC6X2iu62m"
      },
      "execution_count": null,
      "outputs": []
    },
    {
      "cell_type": "code",
      "source": [
        "from transformers import AutoTokenizer, AutoModelForSequenceClassification\n",
        "from scipy.special import softmax"
      ],
      "metadata": {
        "id": "VMgzHtEUmFcx"
      },
      "execution_count": 2,
      "outputs": []
    },
    {
      "cell_type": "code",
      "source": [
        "from dataclasses import dataclass"
      ],
      "metadata": {
        "id": "U8bZ9r45vQ07"
      },
      "execution_count": 3,
      "outputs": []
    },
    {
      "cell_type": "code",
      "source": [
        "@dataclass\n",
        "class Mood:\n",
        "    emoji: str\n",
        "    sentiment: float"
      ],
      "metadata": {
        "id": "v0h4RPsXvQxW"
      },
      "execution_count": 4,
      "outputs": []
    },
    {
      "cell_type": "code",
      "source": [
        "from transformers import AutoModel, AutoTokenizer\n",
        "\n",
        "tokenizer = AutoTokenizer.from_pretrained(\"dbmdz/bert-base-turkish-cased\")\n",
        "model = AutoModel.from_pretrained(\"dbmdz/bert-base-turkish-cased\")\n"
      ],
      "metadata": {
        "collapsed": true,
        "id": "svcZVUKgmFSc"
      },
      "execution_count": null,
      "outputs": []
    },
    {
      "cell_type": "code",
      "source": [
        "def sentiment_analysis(text):\n",
        "    encoded_input = tokenizer(text, return_tensors='pt')\n",
        "    output = model(**encoded_input)\n",
        "    scores = output[0][0].detach().numpy()\n",
        "    scores = softmax(scores)\n",
        "\n",
        "    labels = ['negative', 'neutral', 'positive']\n",
        "    result = {labels[i]: scores[i] for i in range(len(labels))}\n",
        "    return result\n"
      ],
      "metadata": {
        "id": "Qds2hYLemFW6"
      },
      "execution_count": 6,
      "outputs": []
    },
    {
      "cell_type": "code",
      "source": [
        "def get_mood(input_text: str, *, threshold: float) -> Mood:\n",
        "    sentiment: float = TextBlob(input_text).sentiment.polarity\n",
        "\n",
        "\n",
        "    friendly_treshold: float = threshold\n",
        "    hostile_treshold: float = -threshold\n",
        "\n",
        "    if sentiment > friendly_treshold:\n",
        "        return Mood(\"😊\", sentiment)\n",
        "    elif sentiment < hostile_treshold:\n",
        "        return Mood(\"😠\", sentiment)\n",
        "    else:\n",
        "        return Mood(\"😐\", sentiment)\n",
        "\n",
        "\n",
        "\n",
        "url = \"https://tr.euronews.com/2023/08/16/avrupali-arastirmacilar-buzadam-otzi-anadoludan-geldi-koyu-tenli-ve-keldi\"\n",
        "article = Article(url)\n",
        "article.download()\n",
        "article.parse()\n",
        "article.nlp()\n",
        "\n",
        "text = article.summary\n",
        "print(text)\n",
        "\n",
        "blob = TextBlob(text)\n",
        "sentiment = blob.sentiment.polarity # 0 to 1\n",
        "print(sentiment)\n",
        "\n",
        "mood = get_mood(text, threshold=0.1)\n",
        "print(mood)"
      ],
      "metadata": {
        "colab": {
          "base_uri": "https://localhost:8080/"
        },
        "id": "VgDjSVmuvQqv",
        "outputId": "5118b2d7-50a8-43d8-df82-182c62b1e929"
      },
      "execution_count": 16,
      "outputs": [
        {
          "output_type": "stream",
          "name": "stdout",
          "text": [
            "By euronewsMevcut bilgilere göre boyu 1.60 metrenin biraz altında olan Ötzi, yaklaşık 50 kg ağırlığındaydı ve bir okla öldürülmüştü.\n",
            "REKLAMAlmanya'da Max Planck Antropoloji Enstitüsü'nün yaptığı araştırmaya göre Avrupa'nın en ünlü mumyası buzadam Ötzi'nin ataları Anadolu'dan geldi.\n",
            "Araştırma sonuçlarına göre beş bin yaşından büyük olan Ötzi sanılanın aksine daha koyu bir tene sahipti.\n",
            "Araştırmacılara göre Ötzi, Avrupalı çağdaşlarıyla karşılaştırıldığında, Anadolu'dan göç eden ilk çiftçilerle alışılmadık derecede yüksek bir genetik yüzdeye sahip.\n",
            "Mevcut bilgilere göre boyu 1.60 metrenin biraz altında olan Ötzi, yaklaşık 50 kg ağırlığındaydı ve bir okla öldürülmüştü.\n",
            "0.0\n",
            "Mood(emoji='😐', sentiment=0.0)\n"
          ]
        }
      ]
    }
  ]
}